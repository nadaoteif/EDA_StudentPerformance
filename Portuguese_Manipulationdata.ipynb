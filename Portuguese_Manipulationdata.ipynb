{
  "nbformat": 4,
  "nbformat_minor": 0,
  "metadata": {
    "colab": {
      "provenance": [],
      "collapsed_sections": [],
      "include_colab_link": true
    },
    "kernelspec": {
      "name": "python3",
      "display_name": "Python 3"
    },
    "language_info": {
      "name": "python"
    }
  },
  "cells": [
    {
      "cell_type": "markdown",
      "metadata": {
        "id": "view-in-github",
        "colab_type": "text"
      },
      "source": [
        "<a href=\"https://colab.research.google.com/github/nadaoteif/VisualizationsAsgmt2-/blob/main/Portuguese_Manipulationdata.ipynb\" target=\"_parent\"><img src=\"https://colab.research.google.com/assets/colab-badge.svg\" alt=\"Open In Colab\"/></a>"
      ]
    },
    {
      "cell_type": "code",
      "source": [
        "from google.colab import files\n",
        "uploaded = files.upload()"
      ],
      "metadata": {
        "id": "-EHONew8-JHx"
      },
      "execution_count": null,
      "outputs": []
    },
    {
      "cell_type": "code",
      "execution_count": null,
      "metadata": {
        "id": "80vPXZ_h9-Rr"
      },
      "outputs": [],
      "source": [
        "import pandas as pd\n",
        "import numpy as np\n",
        "import matplotlib.pyplot as plt\n",
        "%matplotlib inline\n",
        "from datetime import datetime\n",
        "import seaborn as sns\n",
        "Portuguese_data = pd.read_csv(\"/content/Portuguese.csv\")\n"
      ]
    },
    {
      "cell_type": "code",
      "source": [
        "# Return the first rows.\n",
        "\n",
        "Portuguese_data.head()"
      ],
      "metadata": {
        "id": "wz2-G48kJYiR"
      },
      "execution_count": null,
      "outputs": []
    },
    {
      "cell_type": "code",
      "source": [
        "# Print all summary of dataset\n",
        "\n",
        "Portuguese_data.info()"
      ],
      "metadata": {
        "id": "TkOZvExWJu1x"
      },
      "execution_count": null,
      "outputs": []
    },
    {
      "cell_type": "code",
      "source": [
        "# Return a tuple representing the dimensionality of the dataset\n",
        "\n",
        "print('Shape :', Portuguese_data.shape)\n",
        "print('Number of rows :', Portuguese_data.shape[0])\n",
        "print('Number of columns :', Portuguese_data.shape[1])\n"
      ],
      "metadata": {
        "id": "-lSioLkcJ_h9"
      },
      "execution_count": null,
      "outputs": []
    },
    {
      "cell_type": "code",
      "source": [
        "# Return The column labels of the dataset\n",
        "\n",
        "Portuguese_data.columns"
      ],
      "metadata": {
        "id": "wR-9uFLqKaka"
      },
      "execution_count": null,
      "outputs": []
    },
    {
      "cell_type": "code",
      "source": [
        "# Detect The sum of missing values in each column\n",
        "\n",
        "Portuguese_data.isnull().sum()"
      ],
      "metadata": {
        "id": "ohazq-cpKnVm"
      },
      "execution_count": null,
      "outputs": []
    },
    {
      "cell_type": "markdown",
      "source": [
        "# 6 plots (Use at least 4 different types of plots)."
      ],
      "metadata": {
        "id": "TISRjiqzJPin"
      }
    },
    {
      "cell_type": "code",
      "source": [
        "#Bar chart in Matplotlib\n",
        "# Set the width and height of the figure\n",
        "plt.figure(figsize=(20,10))\n",
        "\n",
        "# Bar chart showing The Relationship between health and absences\n",
        "plt.bar(Portuguese_data['health'], Portuguese_data['absences'], color='lightblue')\n",
        "\n",
        "# Add title\n",
        "plt.title('The Relationship between the health of students and the Number that was absences\"', fontsize=30)\n",
        "\n",
        "# Add labels \n",
        "plt.xlabel('Health', fontsize=20)\n",
        "plt.ylabel('Absences', fontsize=20)\n",
        "plt.grid(True)\n",
        "plt.show()"
      ],
      "metadata": {
        "id": "xkOtcmf-G7lE"
      },
      "execution_count": null,
      "outputs": []
    },
    {
      "cell_type": "markdown",
      "source": [
        "The bar chart is describing the relationship between health and the number of absences. The number of the health status starts from 1 which is very bad, to 5 which is very good, where the absences from 0 to 93. The bar char indicates in our dataset that the health is very bad, and the number of absences is high therefore it is a reverse relationship. In addition, the number of absences has more than 20, even though the students have very good health in degree 5, and this describes that not always students' absence was for a health problems."
      ],
      "metadata": {
        "id": "ThI-AFbuHm2x"
      }
    },
    {
      "cell_type": "code",
      "source": [
        "# Violin plot in Seaborn\n",
        "# Set the width and height of the figure\n",
        "plt.figure(figsize=(20,10))\n",
        "\n",
        "\n",
        "# Creating violin plot \n",
        "sns.violinplot(x='school', y='age', data=Portuguese_data)\n",
        "\n",
        "\n",
        "# Add Labels\n",
        "plt.xlabel('Schools', fontsize=20)\n",
        "plt.ylabel('Ages', fontsize=20)\n",
        "\n",
        "# Add title\n",
        "plt.title('Ages & Schools Information', fontsize=30)\n",
        "\n",
        "sns.despine(left=True)"
      ],
      "metadata": {
        "id": "Lv2U_rP_Hobq"
      },
      "execution_count": null,
      "outputs": []
    },
    {
      "cell_type": "markdown",
      "source": [
        "The chart called Violin-Plot is the same as a boxplot but with more details and information. The new idea here is Probability Density Function (PDF) which represents the width with a thicker shape ,also it can show the minimum, maximum, and median same as the boxplot. The violin plot explains the ages of 15 to 22 in two secondary schools, namely Gabriel Pereira (GP) and Mousinho da Silveira (MS). Violin-Plot indicates in our dataset that the PDF age for the GP school is 17 while the MS school is 16, and the maximum age in GP is 22 while SM is 21. The minimum value is 15 and the median value is 17, therefore it is the same in both schools. Lastly, the GP school has an outlier, while there is not in MS school."
      ],
      "metadata": {
        "id": "JZKHu9kTHyVM"
      }
    },
    {
      "cell_type": "code",
      "source": [
        "# Pie Chart showing student's school ('GP'-Gabriel Pereira or 'MS'-Mousinho da Silveira)\n",
        "plt.figure(figsize=(8, 6))\n",
        "Portuguese_data['school'].value_counts().head(10).plot.pie()\n",
        "plt.gca().set_aspect('equal')\n",
        "plt.title(\"show types student's school\")"
      ],
      "metadata": {
        "id": "iLLTwOj0H3D8"
      },
      "execution_count": null,
      "outputs": []
    },
    {
      "cell_type": "code",
      "source": [
        "# Pie Chart showing types of mother's jobs\n",
        "plt.figure(figsize=(8, 6))\n",
        "Portuguese_data['Mjob'].value_counts().head(10).plot.pie()\n",
        "plt.gca().set_aspect('equal')\n",
        "plt.title(\"show types of mother's jobs\")"
      ],
      "metadata": {
        "id": "wps1H2bVINoe"
      },
      "execution_count": null,
      "outputs": []
    },
    {
      "cell_type": "markdown",
      "source": [
        "When referring to use a pie char in two times:\n",
        "1- To count the Mother Jobs, we figured out that the other job which is not mentioned is the highest one\n",
        "2- To show which schools have a high number of students, therefore, the Gabriel Pereira (GP) school is higher than the Mousinho da Silveira (MS) school."
      ],
      "metadata": {
        "id": "E-sqxeAybnYk"
      }
    },
    {
      "cell_type": "code",
      "source": [
        "# scatter plot showing relation between student's absences and first grade from 0 to 20\n",
        "plt.figure(figsize=(8, 6))\n",
        "sns.scatterplot(x=Portuguese_data['G1'], y=Portuguese_data['absences'])\n",
        "plt.title(\"show student's absences and first grade\")"
      ],
      "metadata": {
        "id": "RXjAQXj7IR9X"
      },
      "execution_count": null,
      "outputs": []
    },
    {
      "cell_type": "code",
      "source": [
        "#  plot showing relation between age absences and sex\n",
        "plt.figure(figsize=(8, 6))\n",
        "plt.title(\"Age & sex\")\n",
        "sns.histplot(data=Portuguese_data, x=Portuguese_data['age'],hue=\"sex\")"
      ],
      "metadata": {
        "id": "KRPHyEJUIb3x"
      },
      "execution_count": null,
      "outputs": []
    },
    {
      "cell_type": "code",
      "source": [
        "#HISTOGRAM CHART represents the sex column\n",
        "# Set the width and height of the figure\n",
        "plt.figure(figsize=(20,10))\n",
        "# histogram chart showing The number of students based on SEX\n",
        "sns.histplot(x=Portuguese_data['sex'])\n",
        "# Add title\n",
        "plt.title(\"The Relationship represents the number of students based on SEX\")\n"
      ],
      "metadata": {
        "id": "JgRW-0mgImVM"
      },
      "execution_count": null,
      "outputs": []
    },
    {
      "cell_type": "markdown",
      "source": [
        "a histogram is a graph that shows the frequency of data using rectangles of different heights. The height of a rectangle represents the frequency of values on the horizontal axis also, the histogram in our dataset describes the number of students of each gender where the letter F represents the female and M represents the male. The chart display that the number of females is more than males and their number is 383. As for the males, their number is 266"
      ],
      "metadata": {
        "id": "gpKwua8zJCLJ"
      }
    },
    {
      "cell_type": "code",
      "source": [
        "#boxplot represents the age column\n",
        "\n",
        "sns.boxplot(x=Portuguese_data[\"age\"])\n",
        "# boxplot showing The number of students based on age\n",
        "\n",
        "plt.title (\"This relationship shows the number of students based on  age\")\n",
        "# Add labels for vertical and horizontal axis\n",
        "plt.xlabel('AGE', fontsize=14)\n",
        "plt.ylabel('count', fontsize=14)\n",
        "# Set the width and height of the figure\n",
        "plt.rcParams['figure.figsize'] = 4,2\n"
      ],
      "metadata": {
        "id": "YMxtdb2PI903"
      },
      "execution_count": null,
      "outputs": []
    },
    {
      "cell_type": "markdown",
      "source": [
        "When referring to our Boxplot attached on google colab Boxplot uses to show the distribution of numerical data and summarize the five- number of data sets Minimum, first quartile, median, third quartile, and maximum. The Boxplot describes that the median of the students' ages is 17, while the maximum is 21, the minimum is 15, and there is one outlier value of 22."
      ],
      "metadata": {
        "id": "oF0iHhYjJLhz"
      }
    },
    {
      "cell_type": "markdown",
      "source": [
        "# plot containing 4 subplots from the 6 plots you created.\n"
      ],
      "metadata": {
        "id": "3v22ba0SJUwB"
      }
    },
    {
      "cell_type": "code",
      "source": [
        "\n",
        "plt.figure(figsize=(20,10))\n",
        "\n",
        "#Plot 1\n",
        "\n",
        "plt.subplot(2,2,1)\n",
        "plt.title('health & absences')\n",
        "plt.bar(Portuguese_data['health'], Portuguese_data['absences'], color='lightblue')\n",
        "plt.xlabel('Health')\n",
        "plt.ylabel('Absences')\n",
        "plt.grid(True)\n",
        "\n",
        "#Plot 2\n",
        "\n",
        "plt.subplot(2,2,2)\n",
        "plt.title(\"Mother's jobs\")\n",
        "Portuguese_data['Mjob'].value_counts().head(10).plot.pie()\n",
        "plt.gca().set_aspect('equal')\n",
        "\n",
        "#Plot 3\n",
        "\n",
        "plt.subplot(2,2,3)\n",
        "plt.title(\"Age & sex\")\n",
        "sns.histplot(data=Portuguese_data, x=Portuguese_data['age'],hue=\"sex\")\n",
        "\n",
        "#Plot 4\n",
        "\n",
        "plt.subplot(2,2,4)\n",
        "plt.title(\"Age & school\")\n",
        "sns.violinplot(x='school', y='age', data=Portuguese_data)\n",
        "sns.despine(left=True)\n",
        "\n",
        "plt.subplots_adjust(left=0.1,\n",
        "                    bottom=0.1,\n",
        "                    right=0.9,\n",
        "                    top=0.9,\n",
        "                    wspace=0.4,\n",
        "                    hspace=0.4)\n"
      ],
      "metadata": {
        "id": "B89vAqgN-xj3"
      },
      "execution_count": null,
      "outputs": []
    }
  ]
}